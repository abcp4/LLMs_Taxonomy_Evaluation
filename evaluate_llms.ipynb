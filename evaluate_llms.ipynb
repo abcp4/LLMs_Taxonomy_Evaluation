{
 "cells": [
  {
   "cell_type": "code",
   "execution_count": 1,
   "id": "b52ca18c",
   "metadata": {},
   "outputs": [],
   "source": [
    "# taxo_name = \"food\"\n",
    "# taxo_name = \"equipment\"\n",
    "# taxo_name = \"chemical\"\n",
    "taxo_name = \"science\"\n",
    "# taxo = \"taxos/wn_food.taxo.txt\"\n",
    "taxo = f\"taxos/{taxo_name}.taxo\"\n",
    "# taxo = \"taxos/equipment.taxo.txt\"\n",
    "is_parent = {}\n",
    "for line in open(taxo):\n",
    "    #split by tab\n",
    "    line = line.strip().split(\"\\t\")\n",
    "    is_parent[line[1]] = line[2]"
   ]
  },
  {
   "cell_type": "code",
   "execution_count": 2,
   "id": "d892c974",
   "metadata": {},
   "outputs": [],
   "source": [
    "def get_ancestors(taxo, term):\n",
    "    \"\"\"\n",
    "    Get all ancestors of a term in the taxonomy\n",
    "    \"\"\"\n",
    "    ancestors = []\n",
    "    while term in is_parent:\n",
    "        term = is_parent[term]\n",
    "        ancestors.append(term)\n",
    "    return ancestors\n",
    "\n",
    "def get_children(taxo, term):\n",
    "    \"\"\"\n",
    "    Get all children of a term in the taxonomy\n",
    "    \"\"\"\n",
    "    children = []\n",
    "    for line in open(taxo):\n",
    "        line = line.strip().split(\"\\t\")\n",
    "        if line[2] == term:\n",
    "            children.append(line[1])\n",
    "    return children\n",
    "\n",
    "#get all tree except the term and its children\n",
    "#Format:\n",
    "# root child 1 child 2\n",
    "# child 1 child 3 child 4\n",
    "#iterative version\n",
    "def get_tree_it(taxo,root, term):\n",
    "    \"\"\"\n",
    "    Get all terms in the taxonomy except the term and its children\n",
    "    \"\"\"\n",
    "    tree = \"\"\n",
    "    stack = [(root, 0)]\n",
    "    while stack:\n",
    "        node, depth = stack.pop()\n",
    "        if depth > 4:\n",
    "            continue\n",
    "        tree += \"\\nParent: \" + node \n",
    "        root_children = get_children(taxo, node)\n",
    "        if len(root_children) != 0:\n",
    "            tree = tree + \"\\nChildren: \"\n",
    "        for child in root_children:\n",
    "            if type(term) == list:\n",
    "                if child in term:\n",
    "                    continue\n",
    "            elif type(term) == str:\n",
    "                if child == term:\n",
    "                    continue\n",
    "            tree += child + \", \"\n",
    "            stack.append((child, depth + 1))\n",
    "    return tree\n",
    "\n",
    "def get_leafs(taxo,root, term):\n",
    "    \"\"\"\n",
    "    Get all terms in the taxonomy except the term and its children\n",
    "    \"\"\"\n",
    "    parents_leaves_dict = {}\n",
    "    stack = [(root, 0)]\n",
    "    while stack:\n",
    "        node, depth = stack.pop()\n",
    "        if depth > 5:\n",
    "            continue\n",
    "        root_children = get_children(taxo, node)\n",
    "        if len(root_children) == 0:\n",
    "            parent = is_parent[node]\n",
    "            if parent not in parents_leaves_dict:\n",
    "                parents_leaves_dict[parent] = [node]\n",
    "            else:\n",
    "                parents_leaves_dict[parent].append(node)\n",
    "        # if term in root_children:\n",
    "        #     #get parent\n",
    "        #     parent = is_parent[child]\n",
    "        #     grand_parent = is_parent[parent]\n",
    "        #     if grand_parent not in parents_leaves_dict:\n",
    "        #         parents_leaves_dict[grand_parent] = [parent]\n",
    "        #     else:\n",
    "        #         parents_leaves_dict[grand_parent].append(parent)\n",
    "        #     continue\n",
    "        for child in root_children:\n",
    "            if child == term:\n",
    "                continue\n",
    "            stack.append((child, depth + 1))\n",
    "    return parents_leaves_dict\n",
    "\n",
    "def get_tree_leaves(parents_leaves_dict):\n",
    "    tree =\"\"\n",
    "    for parent in parents_leaves_dict:\n",
    "        if parent == \"food\":\n",
    "            continue\n",
    "        granparent = is_parent[parent]\n",
    "        tree += \"\\nGranparent: \" + granparent\n",
    "        tree += \"\\nParent: \" + parent\n",
    "        tree += \"\\nChildren: \"\n",
    "        for child in parents_leaves_dict[parent]:\n",
    "            tree += child + \", \"\n",
    "        tree += \"\\n\"\n",
    "    return tree"
   ]
  },
  {
   "cell_type": "code",
   "execution_count": 3,
   "id": "31a96965",
   "metadata": {},
   "outputs": [],
   "source": [
    "# parents_leaves_dict = get_leafs(taxo, \"food\", \"almonds\")\n",
    "# tree = get_tree_leaves(parents_leaves_dict)"
   ]
  },
  {
   "cell_type": "code",
   "execution_count": 4,
   "id": "54897fc9",
   "metadata": {},
   "outputs": [],
   "source": [
    "# print(tree)"
   ]
  },
  {
   "cell_type": "code",
   "execution_count": 5,
   "id": "2e58562f",
   "metadata": {},
   "outputs": [],
   "source": [
    "# #choose 20% of the leaf terms\n",
    "# import random\n",
    "# terms = list(is_parent.keys())\n",
    "# #remove terms that are not leafs\n",
    "# terms = [term for term in terms if len(get_children(taxo, term)) == 0]\n",
    "# terms = random.sample(terms, int(len(terms) * 0.17))\n",
    "# len(terms),terms"
   ]
  },
  {
   "cell_type": "code",
   "execution_count": 6,
   "id": "df537e62",
   "metadata": {},
   "outputs": [],
   "source": [
    "#load fold\n",
    "fold = 0\n",
    "train_terms = []\n",
    "with open(f\"folds/{taxo_name}/train_{fold}.txt\", \"r\") as f:\n",
    "    for line in f:\n",
    "        train_terms.append(line.strip())\n",
    "test_terms = []\n",
    "with open(f\"folds/{taxo_name}/test_{fold}.txt\", \"r\") as f:\n",
    "    for line in f:\n",
    "        test_terms.append(line.strip())"
   ]
  },
  {
   "cell_type": "code",
   "execution_count": 7,
   "id": "03d348b2",
   "metadata": {},
   "outputs": [
    {
     "name": "stdout",
     "output_type": "stream",
     "text": [
      "133\n"
     ]
    }
   ],
   "source": [
    "print(len(test_terms))"
   ]
  },
  {
   "cell_type": "code",
   "execution_count": 8,
   "id": "b870f0d1",
   "metadata": {},
   "outputs": [],
   "source": [
    "from openai import OpenAI\n",
    "\n",
    "# client = OpenAI(base_url=\"http://localhost:1234/v1\", api_key=\"lm-studio\")\n",
    "client = OpenAI(\n",
    "    base_url = 'http://localhost:11434/v1',\n",
    "    api_key='ollama', # required, but unused\n",
    ")\n",
    "\n",
    "# client = OpenAI(base_url=\"https://api.openai.com/v1\", api_key=key)"
   ]
  },
  {
   "cell_type": "code",
   "execution_count": 9,
   "id": "61e79a29",
   "metadata": {},
   "outputs": [],
   "source": [
    "import glob\n",
    "\n",
    "system_prompt = f\"\"\"You are a system that evaluates taxonomies.\n",
    " Given a tree with all the parent nodes and their children, say if the term\n",
    " given by the user is a child of the given parent node.\n",
    "\n",
    "Answer only with \"yes\" or \"no\".\n",
    " \n",
    "    Example:\n",
    " \n",
    "    Tree:\n",
    "        Parent: cereals\n",
    "        Children: breakfast, lunch\n",
    "\n",
    "    Term: breakfast cereal\n",
    "    Node father: breakfast\n",
    "    Is child?: yes\n",
    "\n",
    "    Exemplo:\n",
    "    Tree:\n",
    "        Parent: cereals\n",
    "        Children: breakfast, lunch\n",
    "\n",
    "    Term: wine\n",
    "    Node father: breakfast\n",
    "    Is child?: no\n",
    " \"\"\"\n",
    "\n",
    "\n",
    "# lets translate with llms\n",
    "def ask(termo,pai,arvore):\n",
    "    user_prompt = f\"\"\"\n",
    "                Tree: {arvore}\n",
    "\n",
    "                Term: {termo}\n",
    "                Node father: {pai}\n",
    "                Is {termo} child of {pai}? Return only yes or no:\"\"\"\n",
    "    completion = client.chat.completions.create(\n",
    "        # model=\"meta-llama-3.1-8b-instruct\",\n",
    "        model=\"gemma3:27b\",\n",
    "        # model=\"o3-mini\",\n",
    "        messages=[\n",
    "            {\"role\": \"system\", \"content\": system_prompt},\n",
    "            {\"role\": \"user\", \"content\": user_prompt},\n",
    "        ],\n",
    "        # temperature=0.7,\n",
    "    )\n",
    "    return completion.choices[0].message.content\n"
   ]
  },
  {
   "cell_type": "code",
   "execution_count": 10,
   "id": "409a99ce",
   "metadata": {},
   "outputs": [],
   "source": [
    "# root = \"food\"\n",
    "# tree=get_tree_it(taxo,root, terms)"
   ]
  },
  {
   "cell_type": "code",
   "execution_count": 11,
   "id": "c06cd4dd",
   "metadata": {},
   "outputs": [],
   "source": [
    "def filter_tree(tree):\n",
    "    #remove from tree all lines where the next line contains 'Parent:'\n",
    "    lines = tree.split(\"\\n\")\n",
    "    new_lines = []\n",
    "    for i in range(len(lines)):\n",
    "        if lines[i].startswith(\"Parent:\") and i+1 < len(lines) and lines[i+1].startswith(\"Parent:\"):\n",
    "            continue\n",
    "        new_lines.append(lines[i])\n",
    "    tree = \"\\n\".join(new_lines)\n",
    "    return tree"
   ]
  },
  {
   "cell_type": "code",
   "execution_count": 12,
   "id": "86a8e8c2",
   "metadata": {},
   "outputs": [],
   "source": [
    "# root = \"food\"\n",
    "# # term = \"waffle crisp\"\n",
    "# term = \"beer\"\n",
    "# parent = is_parent[term]\n",
    "# print(f\"Termo: {term}\")\n",
    "# print(f\"Pai: {parent}\")\n",
    "# tree = get_tree_it(taxo, root, term)\n",
    "# tree = filter_tree(tree)\n",
    "# print(len(tree))\n",
    "# # test\n",
    "# ask(term, parent, tree)"
   ]
  },
  {
   "cell_type": "code",
   "execution_count": 13,
   "id": "ff1c7818",
   "metadata": {},
   "outputs": [],
   "source": [
    "test_data = []\n",
    "test_labels = []\n",
    "for term in test_terms:\n",
    "    parent = is_parent[term]\n",
    "    test_data.append((term, parent))\n",
    "test_labels=[\"positive\"]*len(test_data)"
   ]
  },
  {
   "cell_type": "code",
   "execution_count": 14,
   "id": "7a30eba8",
   "metadata": {},
   "outputs": [],
   "source": [
    "import random\n",
    "\n",
    "for i in range(len(test_data)*2):\n",
    "    r = random.randint(0, len(test_terms)-1)\n",
    "    term = test_terms[r]\n",
    "    #get parent\n",
    "    parent = is_parent[term]\n",
    "    #negative\n",
    "    #get any term that is not the parent\n",
    "    #get random term\n",
    "    # if random.random() < 0.5:\n",
    "    r = random.randint(0, len(test_terms)-1)\n",
    "    term2 = test_terms[r]\n",
    "    fake_parent = is_parent[term2]\n",
    "    #check if fake parent is not the true parent\n",
    "    while fake_parent == parent:\n",
    "        r = random.randint(0, len(test_terms)-1)\n",
    "        term2 = test_terms[r]\n",
    "        fake_parent = is_parent[term2]\n",
    "    test_data.append((term, fake_parent))\n",
    "    test_labels.append(\"negative\")"
   ]
  },
  {
   "cell_type": "code",
   "execution_count": 15,
   "id": "f8e3cf17",
   "metadata": {},
   "outputs": [
    {
     "name": "stderr",
     "output_type": "stream",
     "text": [
      "100%|██████████| 399/399 [16:04<00:00,  2.42s/it]\n"
     ]
    }
   ],
   "source": [
    "import tqdm\n",
    "#vamos tirar uma metrica\n",
    "predictions = []\n",
    "predictions_texts = []\n",
    "root = taxo_name\n",
    "for item in tqdm.tqdm(test_data):\n",
    "    term, parent = item\n",
    "    # ancestors = get_ancestors(taxo, term)\n",
    "\n",
    "    tree = get_tree_it(taxo, root, term)\n",
    "    # parent = is_parent[term]\n",
    "    tree = filter_tree(tree)\n",
    "    result = ask(term, parent, tree)\n",
    "    predictions_texts.append(result)\n",
    "    if \"yes\" in result:\n",
    "        predictions.append('positive')\n",
    "    else:\n",
    "        predictions.append('negative')"
   ]
  },
  {
   "cell_type": "code",
   "execution_count": 16,
   "id": "5c56e194",
   "metadata": {},
   "outputs": [
    {
     "name": "stdout",
     "output_type": "stream",
     "text": [
      "              precision    recall  f1-score   support\n",
      "\n",
      "    negative       0.96      0.94      0.95       266\n",
      "    positive       0.88      0.92      0.90       133\n",
      "\n",
      "    accuracy                           0.93       399\n",
      "   macro avg       0.92      0.93      0.92       399\n",
      "weighted avg       0.93      0.93      0.93       399\n",
      "\n"
     ]
    }
   ],
   "source": [
    "from sklearn.metrics import classification_report\n",
    "print(classification_report(test_labels[:len(predictions)], predictions))"
   ]
  },
  {
   "cell_type": "code",
   "execution_count": 17,
   "id": "f2ba6761",
   "metadata": {},
   "outputs": [],
   "source": [
    "#classification report\n",
    "from sklearn.metrics import classification_report\n",
    "# print(classification_report(true_labels, predictions, target_names=[\"negative\", \"positive\"]))\n",
    "#save classification report in folder results\n",
    "import os\n",
    "os.makedirs(f\"results/{taxo_name}\", exist_ok=True)\n",
    "with open(f\"results/{taxo_name}/gemma3_27b_classification_report.txt\", \"w\") as f:\n",
    "    f.write(classification_report(test_labels[:len(predictions)], predictions, target_names=[\"negative\", \"positive\"]))"
   ]
  },
  {
   "cell_type": "code",
   "execution_count": 18,
   "id": "bcb57b4c",
   "metadata": {},
   "outputs": [],
   "source": [
    "# gemma3:27b\n",
    "\n",
    "#               precision    recall  f1-score   support\n",
    "\n",
    "#            0       0.00      0.00      0.00         0\n",
    "#            1       1.00      0.79      0.88       252\n",
    "\n",
    "#     accuracy                           0.79       252\n",
    "#    macro avg       0.50      0.39      0.44       252\n",
    "# weighted avg       1.00      0.79      0.88       252"
   ]
  }
 ],
 "metadata": {
  "kernelspec": {
   "display_name": "nlp",
   "language": "python",
   "name": "python3"
  },
  "language_info": {
   "codemirror_mode": {
    "name": "ipython",
    "version": 3
   },
   "file_extension": ".py",
   "mimetype": "text/x-python",
   "name": "python",
   "nbconvert_exporter": "python",
   "pygments_lexer": "ipython3",
   "version": "3.11.0"
  }
 },
 "nbformat": 4,
 "nbformat_minor": 5
}
